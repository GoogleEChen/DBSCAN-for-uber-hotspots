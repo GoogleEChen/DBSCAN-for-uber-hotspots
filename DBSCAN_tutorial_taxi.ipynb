{
 "cells": [
  {
   "cell_type": "markdown",
   "metadata": {},
   "source": [
    "# 利用 DBSCAN 分群，尋找 Uber 上車熱點\n",
    "\n",
    "## Import 所需的套件\n",
    "\n",
    "1. DBSCAN - 此範例所需的功能\n",
    "2. numpy - 利用 numpy 套件操作矩陣\n",
    "3. csv - 讀取 csv 資料所需\n",
    "4. mplleaflet 和 matplotlib - 資料視覺化 "
   ]
  },
  {
   "cell_type": "code",
   "execution_count": null,
   "metadata": {},
   "outputs": [],
   "source": [
    "from sklearn.cluster import DBSCAN\n",
    "import numpy as np\n",
    "import csv\n",
    "import matplotlib.pyplot as plt\n",
    "import mplleaflet # 地圖視覺化\n",
    "\n",
    "# do you install mplleaflet ?\n",
    "# \"!pip install mplleaflet\""
   ]
  },
  {
   "cell_type": "markdown",
   "metadata": {},
   "source": [
    "## 讀取資料集\n",
    "\n",
    "此資料集是 CSV 格式的資料，內容為：\n",
    "\n",
    "```\n",
    "\"Date/Time\",\"Lat\",\"Lon\",\"Base\"\n",
    "\"8/1/2014 0:03:00\",40.7366,-73.9906,\"B02512\"\n",
    "\"8/1/2014 0:09:00\",40.726,-73.9918,\"B02512\"\n",
    "...\n",
    "...\n",
    "...\n",
    "```\n",
    "Date/Time : 上車時間\n",
    "\n",
    "Lat 和 Lon : 上車座標\n",
    "\n",
    "Base : TLC base company code，紐約計程車制式化編號\n",
    "\n",
    "這裡我們取得 2014 年 8 月 15 日當天的所有上車座標"
   ]
  },
  {
   "cell_type": "markdown",
   "metadata": {},
   "source": [
    "## sample code\n",
    "<pre>\n",
    "<code>\n",
    "with open( [==fixme==] , newline='\\n') as csvfile:\n",
    "    rows = csv.DictReader(csvfile)\n",
    "    for row in rows:\n",
    "        if row['Date/Time'].startswith( [==fixme==] ):\n",
    "            data.append([float( [==fixme==] ), float( [==fixme==] )])\n",
    "</code>\n",
    "</pre>"
   ]
  },
  {
   "cell_type": "code",
   "execution_count": null,
   "metadata": {},
   "outputs": [],
   "source": [
    "data = []\n",
    "# 讀檔\n",
    "## csv reader : csv.DictReader\n",
    "\n",
    "# 座標讀取\n",
    "##  begin date: 8/15/2014\n",
    "\n",
    "\n",
    "# List to np array\n",
    "## np.array()"
   ]
  },
  {
   "cell_type": "markdown",
   "metadata": {},
   "source": [
    "確認有得到資料"
   ]
  },
  {
   "cell_type": "markdown",
   "metadata": {},
   "source": [
    "## 主程式\n",
    "\n",
    "由於 DBSCAN 至少需要 2 個參數\n",
    "\n",
    "1. 半徑\n",
    "2. 最小核心點數量\n",
    "\n",
    "第 1 點我們可以理解成上車地點的距離，所以我們利用弧度推算公里，這裡的意思就是 半徑 = (弧度0.05) 公里\n",
    "\n",
    "第 2 點就比較直觀，一個群集的最少點的數量就當作 範圍內上車地點 的數量就好\n",
    "\n",
    "另外，一般的 DBSCAN 衡量距離的方法為尤拉距離，而這裡使用 [半正矢](https://zh.wikipedia.org/wiki/%E5%8D%8A%E6%AD%A3%E7%9F%A2%E5%85%AC%E5%BC%8F)，原因就是我們這裡是在計算地球上的距離，而不是一個假想平面"
   ]
  },
  {
   "cell_type": "markdown",
   "metadata": {},
   "source": [
    "## Sample code\n",
    "<pre><code>\n",
    "dbscan = DBSCAN(eps= [==fixme==], min_samples= [==fixme==] , metric='haversine')\n",
    "dbscan.fit(np.radians( [==fixme==] )) # 把原本經緯度的資料轉成弧度\n",
    "cluster_labels = [==fixme==] # 取的分群的結果\n",
    "num_clusters = len(set( [==fixme==] )) # 查看分到幾群\n",
    "</code></pre>"
   ]
  },
  {
   "cell_type": "code",
   "execution_count": null,
   "metadata": {},
   "outputs": [],
   "source": [
    "%%time\n",
    "# 預設距離半徑\n",
    "kms_per_radian = 6371.0088\n",
    "# 半徑 = (弧度0.05) 公里\n",
    "epsilon = 0.05 / kms_per_radian\n",
    "# 最小 minPts\n",
    "min_pickups = 25\n",
    "\n",
    "## perform DBSCAN clustering\n",
    "## parameter metric='haversine'\n",
    "## 把原本經緯度的資料轉成弧度 , np.radians\n",
    "\n",
    "# 查看分幾群\n"
   ]
  },
  {
   "cell_type": "markdown",
   "metadata": {},
   "source": [
    "由上面的程式碼得知，我們的到一個 0~86 (87 群) 的群集資料\n",
    "\n",
    "而 -1是雜訊，這裡可能指\n",
    "\n",
    "1. 離各個群太遠 ( eps < 群的距離)\n",
    "2. 群的核心點數量太少，不夠成群\n",
    "\n",
    "## 後處理\n",
    "\n",
    "根據分群完的結果，我們把每一群的中心點求出"
   ]
  },
  {
   "cell_type": "markdown",
   "metadata": {},
   "source": [
    "## sample code\n",
    "<pre><code>\n",
    "hot_spot = []\n",
    "hot_spot_num = []\n",
    "\n",
    "for c in range( [==fixme==] ):\n",
    "    #若不是離群值\n",
    "    if c != [==fixme==]:\n",
    "        #Numpy 搜尋方法 np.where\n",
    "        tmp = data[ [==fixme==] ]  # Numpy 搜尋的用法\n",
    "        #np.mean 平均\n",
    "        #axis = 0：壓縮行，對各列求均值，回傳 1* n矩陣\n",
    "        #axis =1 ：壓縮列，對各行求均值，回傳 m *1矩陣\n",
    "        hot_spot.append(np.mean([==fixme==], [==fixme==])) # 取該群的 行平均 - 中心點\n",
    "        #該群的數量\n",
    "        hot_spot_num.append([==fixme==])\n",
    "\n",
    "hot_spot = np.array(hot_spot)\n",
    "hot_spot_num = np.array(hot_spot_num)\n",
    "</code></pre>"
   ]
  },
  {
   "cell_type": "code",
   "execution_count": null,
   "metadata": {},
   "outputs": [],
   "source": [
    "hot_spot = []\n",
    "hot_spot_num = []\n",
    "\n",
    "# 每一群的中心點求出\n",
    "## 取出每一群\n",
    "### data[np.where(cluster_labels==群)]\n",
    "\n",
    "## 平均 np.mean\n",
    "\n",
    "## 數量\n",
    "### len()\n"
   ]
  },
  {
   "cell_type": "markdown",
   "metadata": {},
   "source": [
    "## 繪製地圖"
   ]
  },
  {
   "cell_type": "markdown",
   "metadata": {},
   "source": [
    "## sample code\n",
    "<pre><code>\n",
    "fig = plt.figure(figsize=([==fixme==],[==fixme==]))\n",
    "ax = fig.add_subplot(111)\n",
    "\n",
    "for idx in range([==fixme==]):\n",
    "    #print(hot_spot[[==fixme==]], hot_spot_num[[==fixme==]])\n",
    "    plt.scatter(hot_spot[[==fixme==],[==fixme==]], hot_spot[[==fixme==],[==fixme==]],s=hot_spot_num[[==fixme==]] )\n",
    "    \n",
    "mplleaflet.display()\n",
    "</code></pre>"
   ]
  },
  {
   "cell_type": "code",
   "execution_count": null,
   "metadata": {},
   "outputs": [],
   "source": [
    "## 繪圖\n",
    "fig = plt.figure(figsize=([==fixme==],[==fixme==]))\n",
    "ax = fig.add_subplot(111)\n",
    "\n",
    "\n",
    "for idx in range([==fixme==]):\n",
    "    ## 座標\n",
    "    ## plt.scatter(X, Y, number )\n",
    "    \n",
    "mplleaflet.display() "
   ]
  }
 ],
 "metadata": {
  "kernelspec": {
   "display_name": "Python 3",
   "language": "python",
   "name": "python3"
  },
  "language_info": {
   "codemirror_mode": {
    "name": "ipython",
    "version": 3
   },
   "file_extension": ".py",
   "mimetype": "text/x-python",
   "name": "python",
   "nbconvert_exporter": "python",
   "pygments_lexer": "ipython3",
   "version": "3.6.1"
  }
 },
 "nbformat": 4,
 "nbformat_minor": 2
}
